{
  "nbformat": 4,
  "nbformat_minor": 0,
  "metadata": {
    "colab": {
      "provenance": []
    },
    "kernelspec": {
      "name": "python3",
      "display_name": "Python 3"
    },
    "language_info": {
      "name": "python"
    }
  },
  "cells": [
{
      "cell_type": "markdown",
      "metadata": {
        "id": "view-in-github",
        "colab_type": "text"
      },
      "source": [
        "<a href=\"https://colab.research.google.com/github/FranciscoBPereira/Bioinformatica25-26/blob/main/Bioinfo2526_Aula3.ipynb\" target=\"_parent\"><img src=\"https://colab.research.google.com/assets/colab-badge.svg\" alt=\"Open In Colab\"/></a>"
      ]
    },
    {
      "cell_type": "markdown",
      "source": [
        "**0. Instalar Biopython**\n",
        "https://biopython.org/\n"
      ],
      "metadata": {
        "id": "AXhQgvwtxQXU"
      }
    },
    {
      "cell_type": "code",
      "execution_count": null,
      "metadata": {
        "id": "8Xxsyf0uwqLZ"
      },
      "outputs": [],
      "source": [
        "!pip install BioPython\n",
        "\n",
        "import Bio"
      ]
    },
    {
      "cell_type": "markdown",
      "source": [
        "\n",
        "\n",
        "**1.   Construção de Dotplots**\n",
        "\n",
        "\n",
        "\n",
        "\n",
        "\n",
        "\n"
      ],
      "metadata": {
        "id": "WSwVpzzDxcRC"
      }
    },
    {
      "cell_type": "code",
      "source": [
        "# -----------------------------\n",
        "# Função simples para gerar dotplot entre as 2 sequências recebidas como parâmetro\n",
        "# O parâmetro window define o tamanho da janela deslizante\n",
        "# -----------------------------\n",
        "\n",
        "import matplotlib.pyplot as plt\n",
        "\n",
        "\n",
        "def dotplot(seq1, seq2, window=1):\n",
        "    \"\"\"Cria um dotplot simples entre duas sequências.\"\"\"\n",
        "    x = []\n",
        "    y = []\n",
        "\n",
        "    for i in range(len(seq1) - window + 1):\n",
        "        for j in range(len(seq2) - window + 1):\n",
        "            if seq1[i:i+window] == seq2[j:j+window]:\n",
        "                x.append(i)\n",
        "                y.append(j)\n",
        "\n",
        "    plt.figure(figsize=(6,6))\n",
        "    plt.scatter(x, y, s=10, color=\"black\")\n",
        "    plt.title(f\"Dotplot (janela={window})\")\n",
        "    plt.xlabel(\"Sequência 1\")\n",
        "    plt.ylabel(\"Sequência 2\")\n",
        "    plt.show()\n"
      ],
      "metadata": {
        "id": "y8T-oUAYOscb"
      },
      "execution_count": null,
      "outputs": []
    },
    {
      "cell_type": "markdown",
      "source": [
        "**1.1. Dotplot entre 2 sequências de DNA**"
      ],
      "metadata": {
        "id": "e36-PMxs1oKh"
      }
    },
    {
      "cell_type": "code",
      "source": [
        "# Construção de um dotplot entre 2 sequências de DNA\n",
        "\n",
        "from Bio.Seq import Seq\n",
        "\n",
        "S1 = Seq('ggtagcttcagactgtaccgacgttattcacgctcccactgaacaattgg')\n",
        "S2 = Seq('gctacccatactgtttacgttattcacgctcccagaacaattgg')\n",
        "\n",
        "janela = 10\n",
        "\n",
        "dotplot(S1, S2, janela)"
      ],
      "metadata": {
        "id": "r4wVb6iNtMrQ"
      },
      "execution_count": null,
      "outputs": []
    },
    {
      "cell_type": "markdown",
      "source": [
        "**Questão:**\n",
        "\n",
        "Altere o tamanho da janela (2, 3, 5, 10) e analise as diferenças no dotplot que é gerado. O que conclui da visualização dos gráficos?"
      ],
      "metadata": {
        "id": "0BPXlC4JuVSW"
      }
    },
    {
      "cell_type": "markdown",
      "source": [
        "**1.2. Dotplot entre sequências de aminoácidos**"
      ],
      "metadata": {
        "id": "xYM6KT3X1ufq"
      }
    },
    {
      "cell_type": "code",
      "source": [
        "# O gene KRT14 está relacionado com a produção de queratina (proteína essencial para a formação da pele)\n",
        "\n",
        "# Pretende-se analisar a semelhança entre as sequências de aminoácidos que resultam da expressão deste gene em 3 espécies:\n",
        "# Humanos (Homo Sapiens)\n",
        "# Rato doméstico (Mus Musculus)\n",
        "# Galo (Gallus Gallus)\n",
        "\n",
        "# Obtenha a identificação das entradas Uniprot para esta proteína e estas 3 espécies:\n",
        "\n",
        "# Homo Sapiens (Pesquisa: KRT14 Homo Sapiens)\n",
        "\n",
        "UniProt_HS = ## COMPLETAR CÓDIGO ##\n",
        "\n",
        "\n",
        "# Mus Musculus (Pesquisa: KRT14 Mus Musculus)\n",
        "\n",
        "UniProt_MM = ## COMPLETAR CÓDIGO ##\n",
        "\n",
        "\n",
        "# Gallus Gallus (Pesquisa: KRT14 Gallus Gallus)\n",
        "\n",
        "UniProt_GG = ## COMPLETAR CÓDIGO ##\n"
      ],
      "metadata": {
        "id": "VKdNh_rMtMw4"
      },
      "execution_count": null,
      "outputs": []
    },
    {
      "cell_type": "code",
      "source": [
        "# Aceder à Uniprot e obter as sequências\n",
        "\n",
        "from Bio import ExPASy\n",
        "from Bio import SeqIO\n",
        "\n",
        "with ExPASy.get_sprot_raw(UniProt_HS) as handle:\n",
        "    S_HS = SeqIO.read(handle, 'swiss')\n",
        "\n",
        "with ExPASy.get_sprot_raw(UniProt_MM) as handle:\n",
        "    S_MM = SeqIO.read(handle, 'swiss')\n",
        "\n",
        "with ExPASy.get_sprot_raw(UniProt_GG) as handle:\n",
        "    S_GG = SeqIO.read(handle, 'swiss')\n"
      ],
      "metadata": {
        "id": "yBFkV9QJtM0g"
      },
      "execution_count": null,
      "outputs": []
    },
    {
      "cell_type": "code",
      "source": [
        "print('Homo Sapiens: ', S_HS.seq)\n",
        "print('Mus Musculus: ', S_MM.seq)\n",
        "print('Gallus Gallus: ', S_GG.seq)"
      ],
      "metadata": {
        "id": "rQeYEyFUtM3O"
      },
      "execution_count": null,
      "outputs": []
    },
    {
      "cell_type": "code",
      "source": [
        "# Construa 3 dotplots\n",
        "# 1: Homo Sapiens vs Mus Musculus\n",
        "\n",
        "\n",
        "## COMPLETAR CÓDIGO ##\n"
      ],
      "metadata": {
        "id": "A24EyVhytM6K"
      },
      "execution_count": null,
      "outputs": []
    },
    {
      "cell_type": "code",
      "source": [
        "# 2: Homo Sapiens vs Gallus Gallus\n",
        "\n",
        "\n",
        "## COMPLETAR CÓDIGO ##\n"
      ],
      "metadata": {
        "id": "D4n0-a-60Q0Q"
      },
      "execution_count": null,
      "outputs": []
    },
    {
      "cell_type": "code",
      "source": [
        "# 3: Mus Musculus vs Gallus Gallus\n",
        "\n",
        "\n",
        "## COMPLETAR CÓDIGO ##"
      ],
      "metadata": {
        "id": "hNp694HH0UBQ"
      },
      "execution_count": null,
      "outputs": []
    },
    {
      "cell_type": "markdown",
      "source": [
        "**1.3. Dotplot entre 2 cópia da mesma sequência**"
      ],
      "metadata": {
        "id": "4xyuEE2N11u6"
      }
    },
    {
      "cell_type": "code",
      "source": [
        "# A proteína Zinc Finger está associada aos processos de transcrição\n",
        "\n",
        "# O identificador Uniprot para o Homo Sapiens é o seguinte\n",
        "\n",
        "UniProt_ZF = 'Q9P255'\n",
        "\n",
        "# Obtenha esta sequência de aminoácidos da Uniprot e efetue um Dotplot entre 2 cópias desta mesma sequência\n",
        "\n",
        "\n",
        "## COMPLETAR CÓDIGO ##"
      ],
      "metadata": {
        "id": "_h28MJsD17F3"
      },
      "execution_count": null,
      "outputs": []
    },
    {
      "cell_type": "markdown",
      "source": [
        "**Questão:**\n",
        "\n",
        "Analise o dotplot. Como explica o que vê na imagem?"
      ],
      "metadata": {
        "id": "asMTIDQd2_hJ"
      }
    },
    {
      "cell_type": "markdown",
      "source": [
        "**2. Métricas para Avaliar Alinhamentos de Par**"
      ],
      "metadata": {
        "id": "-AHMgQfP4cuf"
      }
    },
    {
      "cell_type": "code",
      "source": [
        "# Função simples para colocar 2 strings do mesmo tamanho, adicionando o símbolo '-' no inicio ou no final da mais pequena\n",
        "\n",
        "def completa(s1, s2, pos = 'end', simbolo='-'):\n",
        "\n",
        "  max_len = max(len(s1), len(s2))\n",
        "  if pos == 'end':\n",
        "    s1 = s1.ljust(max_len, '-')\n",
        "    s2 = s2.ljust(max_len, '-')\n",
        "  elif pos == 'start':\n",
        "    s1 = s1.rjust(max_len, '-')\n",
        "    s2 = s2.rjust(max_len, '-')\n",
        "  return s1, s2\n"
      ],
      "metadata": {
        "id": "kDWihEgV7IUm"
      },
      "execution_count": null,
      "outputs": []
    },
    {
      "cell_type": "code",
      "source": [
        "# Função simples para inserir símbolos em algumas posições de uma string\n",
        "\n",
        "def inserir_em_posicoes(s, posicoes, simbolo='-'):\n",
        "    resultado = ''\n",
        "    for i, c in enumerate(s, start=1):\n",
        "        resultado += c\n",
        "        if i in posicoes:\n",
        "            resultado += simbolo\n",
        "    return resultado"
      ],
      "metadata": {
        "id": "_dpIkURT7q8d"
      },
      "execution_count": null,
      "outputs": []
    },
    {
      "cell_type": "markdown",
      "source": [
        "**2.1. Distância de Hamming**\n",
        "\n",
        "**2.1.1. Considerar as sequências de aminoácidos do exemplo 1.2**"
      ],
      "metadata": {
        "id": "iq96exFH75kp"
      }
    },
    {
      "cell_type": "code",
      "source": [
        "from scipy.spatial.distance import hamming\n",
        "\n",
        "\n",
        "# Recuperar as sequências\n",
        "S1 = S_HS.seq\n",
        "S2 = S_MM.seq\n",
        "S3 = S_GG.seq\n",
        "\n",
        "# Normalizar tamanhos\n",
        "S1, S2 = completa(str(S1), str(S2))\n",
        "S1, S3 = completa(str(S1), str(S3))\n",
        "\n",
        "# Calcular a distância de Hamming\n",
        "print('Homo Sapiens / Mus Musculus: ', hamming(list(S1), list(S2)))\n",
        "print('Homo Sapiens / Gallus Gallus: ',hamming(list(S1), list(S3)))\n",
        "print('Mus Musculus / Gallus Gallus: ',hamming(list(S2), list(S3)))\n"
      ],
      "metadata": {
        "id": "SHy9glEH3HKj"
      },
      "execution_count": null,
      "outputs": []
    },
    {
      "cell_type": "markdown",
      "source": [
        "**Questões:**\n",
        "\n",
        "1. Analise os resultados. Estão de acordo com o que se verifica nos dotplots?\n",
        "\n",
        "2. Altere a normalização do tamanho das sequências, para que elas passem a ficar encontadas à direita (parâmetro pos deve ser 'start'). Existem alterações nos resultados?"
      ],
      "metadata": {
        "id": "D3b-Aklg_Vja"
      }
    },
    {
      "cell_type": "markdown",
      "source": [
        "**2.1.2. Calcular distâncias a sequências de referência**"
      ],
      "metadata": {
        "id": "vArEpg3JZx5P"
      }
    },
    {
      "cell_type": "code",
      "source": [
        "# Temos 2 sequências de aminoácidos de referência r1 e r2\n",
        "# Temos uma sequência query q1\n",
        "\n",
        "# Pretende-se saber qual das referências está mais próxima da query\n",
        "\n",
        "r1 = 'MVLSPADKTNVKAAWGKVGAHAGEYGAEALERMFLSFPTTKTYFPHFDLSHGSAQVKGHGKKVADALTNAVAHVDDMPNALSALSDLHAHKLRVDPVNFKLLSHCLLVTLAAHLPAEFTPAVHASLDKFLASVSTVLTSKYR'\n",
        "r2 = 'MVLSAADKNNVKGIFTKIAGHAEEYGAETLERMFTTYPPTKTYFPHFDLSHGSAQIKGHGKKVVAALIEAANHIDDIAGTLSKLSDLHAHKLRVDPVNFKLLGQCFLVVVAIHHPAALTPEVHASLDKFLCAVGTVLTAKYR'\n",
        "\n",
        "q1 = 'MLTDAEKKEVTALWGKAAGHGEEYGAEALERLFQAFPTTKTYFSHFDLSHGSAQIKAHGKKVADALSTAAGHFDDMDSALSALSDLHAHKLRVDPVNFKLLAHCILVVLARHCPGEFTPSAHAAMDKFLSKVATVLTSKYR'\n",
        "\n",
        "# A query é mais pequena do que as referências. Vamos adicionar um simbolo '-' ao final\n",
        "\n",
        "q1A = inserir_em_posicoes(q1, range(len(q1), len(r1)), '-')\n",
        "\n",
        "\n",
        "print('Distancia a r1: ', hamming(list(r1), list(q1A)))\n",
        "print('Distancia a r2: ', hamming(list(r2), list(q1A)), '\\n')\n",
        "\n",
        "print(r1)\n",
        "print(r2)\n",
        "print(q1A)\n"
      ],
      "metadata": {
        "id": "6U1eVXnx_eO8"
      },
      "execution_count": null,
      "outputs": []
    },
    {
      "cell_type": "code",
      "source": [
        "# E se colocarmos o símbolo numa outra posição?\n",
        "\n",
        "q1B = inserir_em_posicoes(q1, [1], '-')\n",
        "\n",
        "\n",
        "print('Distancia a r1: ', hamming(list(r1), list(q1B)))\n",
        "print('Distancia a r2: ', hamming(list(r2), list(q1B)), '\\n')\n",
        "\n",
        "print(r1)\n",
        "print(r2)\n",
        "print(q1B)"
      ],
      "metadata": {
        "id": "2IcJqb_LYx2e"
      },
      "execution_count": null,
      "outputs": []
    },
    {
      "cell_type": "markdown",
      "source": [
        "**Questão:**\n",
        "\n",
        "O que conclui deste exercício?"
      ],
      "metadata": {
        "id": "M9RM-svTaKf5"
      }
    },
    {
      "cell_type": "markdown",
      "source": [
        "**2.2 Distância de Levenshtein**"
      ],
      "metadata": {
        "id": "D1CM5iB_aW69"
      }
    },
    {
      "cell_type": "code",
      "source": [
        "# A distância de Levenshtein garante uma melhor contabilização das diferenças entre sequências\n",
        "# Obtenha um módulo em Python que calcule esta distância\n",
        "# https://rapidfuzz.github.io/Levenshtein/\n",
        "\n",
        "# Repita os testes da secção anteriores e analise os resultados\n",
        "\n",
        "\n",
        "## COMPLETAR CÓDIGO ##\n",
        "\n"
      ],
      "metadata": {
        "id": "ZA7ERk7Iab7a"
      },
      "execution_count": null,
      "outputs": []
    }
  ]
}
