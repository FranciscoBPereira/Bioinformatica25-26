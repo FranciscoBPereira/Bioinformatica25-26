{
  "nbformat": 4,
  "nbformat_minor": 0,
  "metadata": {
    "colab": {
      "provenance": []
    },
    "kernelspec": {
      "name": "python3",
      "display_name": "Python 3"
    },
    "language_info": {
      "name": "python"
    }
  },
  "cells": [
{
      "cell_type": "markdown",
      "metadata": {
        "id": "view-in-github",
        "colab_type": "text"
      },
      "source": [
        "<a href=\"https://colab.research.google.com/github/FranciscoBPereira/Bioinformatica25-26/blob/main/Bioinfo2526_Aula8.ipynb\" target=\"_parent\"><img src=\"https://colab.research.google.com/assets/colab-badge.svg\" alt=\"Open In Colab\"/></a>"
      ]
    },
    {
      "cell_type": "markdown",
      "source": [
        "**0. Instalar Biopython**\n",
        "https://biopython.org/\n"
      ],
      "metadata": {
        "id": "AXhQgvwtxQXU"
      }
    },
    {
      "cell_type": "code",
      "execution_count": null,
      "metadata": {
        "id": "8Xxsyf0uwqLZ"
      },
      "outputs": [],
      "source": [
        "!pip install BioPython\n",
        "\n",
        "import Bio\n",
        "\n",
        "import matplotlib\n",
        "import matplotlib.pyplot as plt\n",
        "import copy\n",
        "\n",
        "from Bio import Phylo\n",
        "from Bio import AlignIO\n",
        "from Bio.Phylo.TreeConstruction import *\n"
      ]
    },
    {
      "cell_type": "markdown",
      "source": [
        "**1. Obter alinhamento múltiplo**"
      ],
      "metadata": {
        "id": "erIXr6fW4_Yp"
      }
    },
    {
      "cell_type": "code",
      "source": [
        "# Colocar ficheiro A.phylip na diretoria de trabalho\n",
        "# Ler alinhamento múltiplo do ficheiro A.phylip (no formato PHYLIP)\n",
        "\n",
        "aln = AlignIO.read('A.phylip', 'phylip')\n",
        "print(aln)"
      ],
      "metadata": {
        "id": "QAsSIniRa4Tx"
      },
      "execution_count": null,
      "outputs": []
    },
    {
      "cell_type": "markdown",
      "source": [
        "**2. Efetuar a construção da árvore com parcimónia máxima**"
      ],
      "metadata": {
        "id": "FQcLUU6C5JnY"
      }
    },
    {
      "cell_type": "code",
      "source": [
        "# Consultar detalhes aqui\n",
        "# https://biopython.org/wiki/Phylo\n",
        "# https://biopython.org/docs/latest/api/Bio.Phylo.TreeConstruction.html\n",
        "\n",
        "# Criar objeto para calcular a parcimónia das árvores\n",
        "scorer = Phylo.TreeConstruction.ParsimonyScorer()\n",
        "\n",
        "# Criar método de otimização para pesquisa da melhor árvore\n",
        "searcher = Phylo.TreeConstruction.NNITreeSearcher(scorer)\n",
        "\n",
        "# Criar construtor de árvores com parcimónia máxima\n",
        "constructor = Phylo.TreeConstruction.ParsimonyTreeConstructor(searcher)\n",
        "\n",
        "# Efetuar a construção da árvore\n",
        "pars_tree = constructor.build_tree(aln)\n",
        "\n",
        "print(pars_tree)\n",
        "\n"
      ],
      "metadata": {
        "id": "_IjeJED9mwjY"
      },
      "execution_count": null,
      "outputs": []
    },
    {
      "cell_type": "code",
      "source": [
        "# Visualizar a árvore com parcimónia máxima\n",
        "\n",
        "Phylo.draw(pars_tree, branch_labels=lambda c: f'{c.branch_length:.4f}' if c.branch_length else '')"
      ],
      "metadata": {
        "id": "4w33Fowwmwl5"
      },
      "execution_count": null,
      "outputs": []
    },
    {
      "cell_type": "markdown",
      "source": [
        "**3. Árvores de máxima verosimilhança**"
      ],
      "metadata": {
        "id": "ObnvmzwG6f98"
      }
    },
    {
      "cell_type": "code",
      "source": [
        "# Ler os ficheiros newick das árvores com máxima verosimilhança que foram criadas na PhyML\n",
        "\n",
        "# Visualizar as árvores\n",
        "\n",
        "# Analisar os resultados\n",
        "# 1. O que é comum às 3 árvores?\n",
        "# 2. Quais são as diferenças?\n",
        "\n",
        "\n",
        "#### Código ####"
      ],
      "metadata": {
        "id": "lRwZ75gGmwoa"
      },
      "execution_count": null,
      "outputs": []
    }
  ]
}
