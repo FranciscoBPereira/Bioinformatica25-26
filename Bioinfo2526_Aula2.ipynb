{
  "nbformat": 4,
  "nbformat_minor": 0,
  "metadata": {
    "colab": {
      "provenance": []
    },
    "kernelspec": {
      "name": "python3",
      "display_name": "Python 3"
    },
    "language_info": {
      "name": "python"
    }
  },
  "cells": [
{
      "cell_type": "markdown",
      "metadata": {
        "id": "view-in-github",
        "colab_type": "text"
      },
      "source": [
        "<a href=\"https://colab.research.google.com/github/FranciscoBPereira/Bioinformatica25-26/blob/main/Bioinfo2526_Aula2.ipynb\" target=\"_parent\"><img src=\"https://colab.research.google.com/assets/colab-badge.svg\" alt=\"Open In Colab\"/></a>"
      ]
    },
    {
      "cell_type": "markdown",
      "source": [
        "**0. Instalar Biopython**\n",
        "https://biopython.org/\n"
      ],
      "metadata": {
        "id": "AXhQgvwtxQXU"
      }
    },
    {
      "cell_type": "code",
      "execution_count": null,
      "metadata": {
        "id": "8Xxsyf0uwqLZ"
      },
      "outputs": [],
      "source": [
        "!pip install BioPython\n",
        "\n",
        "import Bio"
      ]
    },
    {
      "cell_type": "markdown",
      "source": [
        "\n",
        "\n",
        "**1.   Processamento básico de objetos Seq**\n",
        "\n",
        "\n",
        "\n",
        "\n",
        "\n",
        "\n"
      ],
      "metadata": {
        "id": "WSwVpzzDxcRC"
      }
    },
    {
      "cell_type": "code",
      "source": [
        "# Os objetos Seq armazenam sequências de DNA, RNA ou aminoácidos.\n",
        "#Na prática são muito semelhantes a strings\n",
        "\n",
        "from Bio.Seq import Seq\n",
        "\n",
        "S1 = Seq('ATGGCCATTGTAATGGGCCGCTGAAAGGGTGCCCGATAG')\n",
        "\n",
        "print(S1)"
      ],
      "metadata": {
        "id": "y8T-oUAYOscb"
      },
      "execution_count": null,
      "outputs": []
    },
    {
      "cell_type": "code",
      "source": [
        "# O objeto Seq tem um conjunto de métodos associado, úteis para bioinformática\n",
        "\n",
        "print('Tamanho: ', len(S1))\n",
        "\n",
        "print('Complemento: ', S1.complement())\n",
        "\n",
        "print('Complemento reverso: ', S1.reverse_complement())\n"
      ],
      "metadata": {
        "id": "Ii986vyiQUyL"
      },
      "execution_count": null,
      "outputs": []
    },
    {
      "cell_type": "markdown",
      "source": [
        "**Questões:**\n",
        "\n",
        "Qual é a diferença entre o complemento e o complemento reverso?\n",
        "\n",
        "Qual a relevância para os processos de transcrição e tradução?"
      ],
      "metadata": {
        "id": "ntURYcKkRC7T"
      }
    },
    {
      "cell_type": "code",
      "source": [
        "R1 = S1.transcribe()\n",
        "\n",
        "AA1 = S1.translate()\n",
        "AA2 = R1.translate()\n",
        "\n",
        "print('RNA: ', R1)\n",
        "print('Aminoácidos: ', AA1)\n",
        "print('Aminoácidos: ', AA2)"
      ],
      "metadata": {
        "id": "h4FgzIudPrIw"
      },
      "execution_count": null,
      "outputs": []
    },
    {
      "cell_type": "markdown",
      "source": [
        "**Questões:**\n",
        "\n",
        "Os 2 processos de tradução obtêm o mesmo resultado. Porquê?\n",
        "\n",
        "O que significa o '*' na sequência de aminoácidos?"
      ],
      "metadata": {
        "id": "6YIpTG35UmaY"
      }
    },
    {
      "cell_type": "markdown",
      "source": [
        "**2. Processamento de objetos SeqRecord**"
      ],
      "metadata": {
        "id": "thQQhxqjVq2i"
      }
    },
    {
      "cell_type": "code",
      "source": [
        "# Os objetos SeqRecord permitem armazenar vários atributos, para além da sequência.\n",
        "# Além disso, são os objetos utilizados para operações de input e output do módulo SeqIO\n",
        "\n",
        "from Bio.SeqRecord import SeqRecord\n",
        "\n",
        "from Bio import SeqIO"
      ],
      "metadata": {
        "id": "OFkFwevVSeQX"
      },
      "execution_count": null,
      "outputs": []
    },
    {
      "cell_type": "code",
      "source": [
        "# Criação de um objeto de raiz\n",
        "# Deve ser especificado, no mínimo, a sequência\n",
        "\n",
        "SR1 = SeqRecord(Seq('ACTUAT'), 'Id1', 'First SeqRecord')\n",
        "\n",
        "print(SR1)"
      ],
      "metadata": {
        "id": "ZNp_4MSwSeaJ"
      },
      "execution_count": null,
      "outputs": []
    },
    {
      "cell_type": "code",
      "source": [
        "# Criação de um objeto através da leitura do ficheiro NC_005816.fna\n",
        "# O ficheiro está no formato FASTA e contém 1 única sequência de DNA.\n",
        "# É do organismo descrito aqui: https://www.ncbi.nlm.nih.gov/nuccore/NC_005816\n",
        "\n",
        "SR2 = SeqIO.read('NC_005816.fna', 'fasta')\n",
        "\n",
        "print(SR2)\n"
      ],
      "metadata": {
        "id": "DF41GWIjaXSe"
      },
      "execution_count": null,
      "outputs": []
    },
    {
      "cell_type": "markdown",
      "source": [
        "**Questões:**\n",
        "\n",
        "O que é o formato FASTA?\n",
        "\n",
        "Que atributos foram preenchidos?"
      ],
      "metadata": {
        "id": "EDaO44aBdGCs"
      }
    },
    {
      "cell_type": "code",
      "source": [
        "# Criação de um objeto através da leitura do ficheiro NC_005816.gb\n",
        "# O ficheiro está no formato GenBank e contém informação sobre o mesmo organismo utilizado anteriormente\n",
        "\n",
        "SR3 = SeqIO.read('NC_005816.gb', 'genbank')\n",
        "\n",
        "print(SR3)\n"
      ],
      "metadata": {
        "id": "miIBMEzsSeiF"
      },
      "execution_count": null,
      "outputs": []
    },
    {
      "cell_type": "markdown",
      "source": [
        "**Questões:**\n",
        "\n",
        "Analise o formato GenBank e compare-o com o utilizado anteriormente?\n",
        "\n",
        "Quais os atributos preenchidos?"
      ],
      "metadata": {
        "id": "rKqSmQyQf0us"
      }
    },
    {
      "cell_type": "code",
      "source": [
        "# Muitas vezes, os ficheiros podem conter várias sequências.\n",
        "# Neste caso, é habitualmente utilizado o método de parsing() para efetuar a leitura sequencial\n",
        "# Este exemplo usa o ficheiro ls_orchid.fasta que contém várias sequências FASTA relacionadas com um tipo especifico de orquídeas\n",
        "\n",
        "i = 1\n",
        "for SR3 in SeqIO.parse('ls_orchid.fasta', 'fasta'):\n",
        "  print('\\n', 'Record ', i)\n",
        "  print(SR3.id)\n",
        "  print(SR3.description)\n",
        "  print(len(SR3.seq))\n",
        "  i += 1"
      ],
      "metadata": {
        "id": "k5cjGFoUc1o-"
      },
      "execution_count": null,
      "outputs": []
    },
    {
      "cell_type": "code",
      "source": [
        "# Muitas vezes, os ficheiros podem conter várias sequências.\n",
        "# Neste caso, é habitualmente utilizado o método de parsing() para efetuar a leitura sequencial\n",
        "# Este exemplo usa o ficheiro ls_orchid.gbk que contém várias sequências GenBank relacionadas com um tipo especifico de orquídeas\n",
        "\n",
        "i = 1\n",
        "for SR3 in SeqIO.parse('ls_orchid.gbk', 'genbank'):\n",
        "  print('\\n', 'Record ', i)\n",
        "  print(SR3.id)\n",
        "  print(SR3.description)\n",
        "  print(len(SR3.seq))\n",
        "  i += 1"
      ],
      "metadata": {
        "id": "aqk1Zv1Gc1sZ"
      },
      "execution_count": null,
      "outputs": []
    },
    {
      "cell_type": "code",
      "source": [
        "# Processamento iterativo de um ficheiro contendo várias sequências\n",
        "# Permite lidar de forma individual com cada uma delas\n",
        "\n",
        "iterator = SeqIO.parse('ls_orchid.fasta', 'fasta')\n",
        "\n",
        "print(iterator)\n"
      ],
      "metadata": {
        "id": "zgrt2ZrFc1u7"
      },
      "execution_count": null,
      "outputs": []
    },
    {
      "cell_type": "code",
      "source": [
        "# Agora que temos um iterador podemos processar o ficheiro\n",
        "\n",
        "First = next(iterator)\n",
        "print(First)\n",
        "\n",
        "Second = next(iterator)\n",
        "print(Second)"
      ],
      "metadata": {
        "id": "1EpyCvpBc1xV"
      },
      "execution_count": null,
      "outputs": []
    },
    {
      "cell_type": "code",
      "source": [
        "# Transformação de um iterador numa lista Python\n",
        "\n",
        "iterator = SeqIO.parse('ls_orchid.fasta', 'fasta')\n",
        "lista = list(iterator)\n",
        "\n",
        "print('Tamanho da lista: ', len(lista))\n",
        "print(lista)"
      ],
      "metadata": {
        "id": "bg1ZD2T9c1zf"
      },
      "execution_count": null,
      "outputs": []
    },
    {
      "cell_type": "markdown",
      "source": [
        "**Questão:**\n",
        "\n",
        "Indique vantagens e desvantagens da utilização da lista vs. iterador"
      ],
      "metadata": {
        "id": "QQLzhyTTkbcN"
      }
    },
    {
      "cell_type": "markdown",
      "source": [
        "**3.Acesso a bases de dados para obtenção de sequências**"
      ],
      "metadata": {
        "id": "xm14e0tqmaQw"
      }
    },
    {
      "cell_type": "code",
      "source": [
        "# O Entrez é o motor de pesquisa e acesso às bases de dados  do NCBI\n",
        "# Funciona como portal para obtenção de informação biológica\n",
        "\n",
        "# Nos 2 exemplos seguintes, são executados os seguintes passos:\n",
        "# 1. Criação do handle especificando os detalhes da ligação e da tarefa a realizar\n",
        "# 2. Leitura da informação\n",
        "\n",
        "from Bio import Entrez\n",
        "\n",
        "Entrez.email = 'abc@example.com'\n",
        "with Entrez.efetch(db='nucleotide', rettype='fasta', retmode='text', id='6273291') as handle:\n",
        "    seq_record = SeqIO.read(handle, 'fasta')\n",
        "\n",
        "print('%s with %i features' % (seq_record.id, len(seq_record.features)))\n",
        "print(seq_record.seq)"
      ],
      "metadata": {
        "id": "-powaMXClNOA"
      },
      "execution_count": null,
      "outputs": []
    },
    {
      "cell_type": "code",
      "source": [
        "from Bio import Entrez\n",
        "from Bio import SeqIO\n",
        "\n",
        "Entrez.email = 'abc@example.com'\n",
        "with Entrez.efetch(db='nucleotide', rettype='gb', retmode='text', id='6273291') as handle:\n",
        "    seq_record = SeqIO.read(handle, 'gb')\n",
        "\n",
        "print('%s with %i features' % (seq_record.id, len(seq_record.features)))\n",
        "print(seq_record.seq)"
      ],
      "metadata": {
        "id": "FS7n9ZlLm6ww"
      },
      "execution_count": null,
      "outputs": []
    },
    {
      "cell_type": "markdown",
      "source": [
        "**Exercício 1**\n",
        "\n",
        "Calcular a sequência de aminoácidos do gene humano LCT human lactase"
      ],
      "metadata": {
        "id": "X6U266ifyfbq"
      }
    },
    {
      "cell_type": "code",
      "source": [
        "# Passo 1: obter a entrada completa da base de dados NCBI\n",
        "\n",
        "Entrez.email = 'abc@example.com'\n",
        "with Entrez.efetch(db='nucleotide', rettype='gb', retmode='text', id='NM_002299') as handle:\n",
        "    seq_record = SeqIO.read(handle, 'gb')"
      ],
      "metadata": {
        "id": "5CxTK8IayfGm"
      },
      "execution_count": null,
      "outputs": []
    },
    {
      "cell_type": "code",
      "source": [
        "# Passo 2: Isolar a sequência de DNA\n",
        "# Sugestão: Criar um objeto Seq a partir do atributo seq do objeto SeqRecord\n",
        "\n",
        "\n",
        "# COMPLETAR\n"
      ],
      "metadata": {
        "id": "fLVtfZijzE_i"
      },
      "execution_count": null,
      "outputs": []
    },
    {
      "cell_type": "code",
      "source": [
        "# Passo 3: Efetuar a transcrição e a tradução\n",
        "\n",
        "# COMPLETAR\n",
        "\n",
        "\n"
      ],
      "metadata": {
        "id": "FF04NxMMz4s2"
      },
      "execution_count": null,
      "outputs": []
    },
    {
      "cell_type": "markdown",
      "source": [
        "**Exercício 2**\n",
        "\n",
        "Obter informação de um registo da base de dados Uniprot. Deve ser utilizado um ficheiro com formato SwissProt\n",
        "\n"
      ],
      "metadata": {
        "id": "PMt_HAg32M1V"
      }
    },
    {
      "cell_type": "code",
      "source": [
        "# Passo 1: Obter informação da Uniprot\n",
        "\n",
        "from Bio.AlignIO import write\n",
        "from Bio import ExPASy\n",
        "from Bio import SeqIO\n",
        "\n",
        "uniprotID = 'P69905'\n",
        "\n",
        "with ExPASy.get_sprot_raw(uniprotID) as handle:\n",
        "    seq_record = SeqIO.read(handle, 'swiss')\n",
        "\n"
      ],
      "metadata": {
        "id": "_-Qab8rD3faN"
      },
      "execution_count": null,
      "outputs": []
    },
    {
      "cell_type": "markdown",
      "source": [
        "**Questão:**\n",
        "\n",
        "Qual é o papel desempenhado por esta proteína?\n"
      ],
      "metadata": {
        "id": "razX_A0KTwxG"
      }
    },
    {
      "cell_type": "code",
      "source": [
        "# Passo 2: Apresentar os seguintes campos: Id, nome, descrição, comprimentos da sequência e sequência\n",
        "\n",
        "\n",
        "# COMPLETAR\n"
      ],
      "metadata": {
        "id": "G2yitRTzLFAh"
      },
      "execution_count": null,
      "outputs": []
    },
    {
      "cell_type": "code",
      "source": [
        "# Passo 3: Gravar a informação num ficheiro com formato FASTA\n",
        "\n",
        "SeqIO.write(seq_record, 'hemoglobina_alpha.fasta', 'fasta')\n",
        "\n",
        "print('Sequência guardada')"
      ],
      "metadata": {
        "id": "d3ifxdxvZUE-"
      },
      "execution_count": null,
      "outputs": []
    },
    {
      "cell_type": "code",
      "source": [
        "#Passo 4: Qual o aminoácido mais frequente?\n",
        "\n",
        "# COMPLETAR"
      ],
      "metadata": {
        "id": "NN_O1TbGZnR7"
      },
      "execution_count": null,
      "outputs": []
    }
  ]
}
