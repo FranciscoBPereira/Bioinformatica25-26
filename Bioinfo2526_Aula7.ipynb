{
  "nbformat": 4,
  "nbformat_minor": 0,
  "metadata": {
    "colab": {
      "provenance": []
    },
    "kernelspec": {
      "name": "python3",
      "display_name": "Python 3"
    },
    "language_info": {
      "name": "python"
    }
  },
  "cells": [
    {
      "cell_type": "markdown",
      "source": [
        "**0. Instalar Biopython**\n",
        "https://biopython.org/\n"
      ],
      "metadata": {
        "id": "AXhQgvwtxQXU"
      }
    },
    {
      "cell_type": "code",
      "execution_count": null,
      "metadata": {
        "id": "8Xxsyf0uwqLZ"
      },
      "outputs": [],
      "source": [
        "!pip install BioPython\n",
        "\n",
        "import Bio\n",
        "\n",
        "import matplotlib\n",
        "import matplotlib.pyplot as plt\n",
        "import copy\n",
        "\n",
        "from Bio import Phylo\n"
      ]
    },
    {
      "cell_type": "markdown",
      "source": [
        "**1. Construção de uma árvore filogenética a partir de uma matriz de distâncias**"
      ],
      "metadata": {
        "id": "UzRzhKEFL0cu"
      }
    },
    {
      "cell_type": "code",
      "source": [
        "# O módulo TreeConstruction tem métodos baseados em distâncias para criar árvores filogenéticas\n",
        "# https://biopython.org/docs/1.76/api/Bio.Phylo.TreeConstruction.html\n",
        "# https://biopython.org/wiki/Phylo\n",
        "\n",
        "from Bio.Phylo.TreeConstruction import DistanceTreeConstructor\n",
        "from Bio.Phylo.TreeConstruction import DistanceCalculator\n",
        "from Bio.Phylo.TreeConstruction import _DistanceMatrix\n"
      ],
      "metadata": {
        "id": "JSeZTHpXDeMU"
      },
      "execution_count": null,
      "outputs": []
    },
    {
      "cell_type": "code",
      "source": [
        "# Função para efetuar a leitura de uma matriz de um ficheiro de texto\n",
        "\n",
        "def read_distance_matrix_standard(name):\n",
        "    distance_matrix = []\n",
        "    try:\n",
        "        with open(name, 'r') as f:\n",
        "            for line in f:\n",
        "                # Strip whitespace, split by spaces/tabs, and convert to float\n",
        "                row = [float(num) for num in line.strip().split()]\n",
        "                distance_matrix.append(row)\n",
        "        return distance_matrix\n",
        "    except FileNotFoundError:\n",
        "        print(f\"Error: The file at {filepath} was not found.\")\n",
        "        return None\n",
        "    except ValueError:\n",
        "        print(\"Error: The file contains non-numeric data.\")\n",
        "        return None\n"
      ],
      "metadata": {
        "id": "4qXWnRbq_Nva"
      },
      "execution_count": null,
      "outputs": []
    },
    {
      "cell_type": "code",
      "source": [
        "# Ler a matriz do ficheiro b.txt\n",
        "\n",
        "name = 'b.txt'\n",
        "b = read_distance_matrix_standard(name)\n",
        "\n",
        "b"
      ],
      "metadata": {
        "id": "iEc_yxjq_Nz_"
      },
      "execution_count": null,
      "outputs": []
    },
    {
      "cell_type": "code",
      "source": [
        "# Converter a matriz para um objeto do tipo DistanceMatrix\n",
        "# Deve ter apenas o triângulo inferior\n",
        "\n",
        "names = ['A', 'B', 'C', 'D', 'E']\n",
        "mat = _DistanceMatrix(names, b)\n",
        "print(mat)\n"
      ],
      "metadata": {
        "id": "zu2QqFzl_N4z"
      },
      "execution_count": null,
      "outputs": []
    },
    {
      "cell_type": "code",
      "source": [
        "# Criar um construtor e aplicar o método UPGMA para obter a árvore filogenética\n",
        "\n",
        "cUPGMA = DistanceTreeConstructor()\n",
        "upgmatree = cUPGMA.upgma(mat)\n",
        "\n",
        "Phylo.draw_ascii(upgmatree)"
      ],
      "metadata": {
        "id": "BQHRyQAW_N7M"
      },
      "execution_count": null,
      "outputs": []
    },
    {
      "cell_type": "code",
      "source": [
        "# Criar um construtor e aplicar o método NJ para obter a árvore filogenética\n",
        "\n",
        "cNJ = DistanceTreeConstructor()\n",
        "NJtree = cNJ.nj(mat)\n",
        "\n",
        "Phylo.draw_ascii(NJtree)"
      ],
      "metadata": {
        "id": "yY8rPoDU_N9o"
      },
      "execution_count": null,
      "outputs": []
    },
    {
      "cell_type": "code",
      "source": [
        "\n",
        "Phylo.draw(upgmatree, branch_labels=lambda c: f'{c.branch_length:.2f}' if c.branch_length else '')\n"
      ],
      "metadata": {
        "id": "xzMUabjqTtCq"
      },
      "execution_count": null,
      "outputs": []
    },
    {
      "cell_type": "code",
      "source": [
        "Phylo.draw(NJtree, branch_labels=lambda c: f'{c.branch_length:.2f}' if c.branch_length else '')\n"
      ],
      "metadata": {
        "id": "5OrMcrPJVu5M"
      },
      "execution_count": null,
      "outputs": []
    },
    {
      "cell_type": "markdown",
      "source": [
        "**Questão:**\n",
        "\n",
        "1. Analise as árvores e identifique semelhanças e diferenças"
      ],
      "metadata": {
        "id": "cuXE5RZ8V357"
      }
    },
    {
      "cell_type": "code",
      "source": [
        "# Adicionar raiz a uma árvore sem raiz\n",
        "\n",
        "# 1. Escolher um outgroup\n",
        "# 2. Adicionar no ponto médio\n",
        "\n",
        "import copy\n",
        "\n",
        "NJ_R1 = copy.deepcopy(NJtree)\n",
        "\n",
        "NJ_R2 = copy.deepcopy(NJtree)\n",
        "\n"
      ],
      "metadata": {
        "id": "getFzU0FWLm4"
      },
      "execution_count": null,
      "outputs": []
    },
    {
      "cell_type": "code",
      "source": [
        "# 1. Outgroup\n",
        "\n",
        "NJ_R1.root_with_outgroup('C')\n",
        "\n",
        "Phylo.draw(NJ_R1, branch_labels=lambda c: f'{c.branch_length:.2f}' if c.branch_length else '')\n"
      ],
      "metadata": {
        "id": "no4hZjBrYEXy"
      },
      "execution_count": null,
      "outputs": []
    },
    {
      "cell_type": "code",
      "source": [
        "# 2. Raiz no ponto médio do caminho mais longo entre terminais\n",
        "\n",
        "NJ_R2.root_at_midpoint()\n",
        "\n",
        "Phylo.draw(NJ_R2, branch_labels=lambda c: f'{c.branch_length:.2f}' if c.branch_length else '')\n",
        "\n"
      ],
      "metadata": {
        "id": "nti_B4OGTTHz"
      },
      "execution_count": null,
      "outputs": []
    },
    {
      "cell_type": "markdown",
      "source": [
        "**2. Construção de uma árvore filogenética a partir de um alinhamento múltiplo**"
      ],
      "metadata": {
        "id": "a_QWAfp-ZI7I"
      }
    },
    {
      "cell_type": "code",
      "source": [
        "\n",
        "# Ler o alinhamento múltiplo armazenado no ficheiro A.phylip.\n",
        "# O alinhamento está no formato phylip\n",
        "\n",
        "from Bio import AlignIO\n",
        "aln = AlignIO.read('A.phylip', 'phylip')\n",
        "print(aln)"
      ],
      "metadata": {
        "id": "9lDGFoMuYCt1"
      },
      "execution_count": null,
      "outputs": []
    },
    {
      "cell_type": "code",
      "source": [
        "# O objeto DistanceCalculator cria uma matriz de distâncias baseada num alinhamento multiplo\n",
        "# Calcula as diferenças entre posições alinhadas utilizando um modelo de substituição\n",
        "# Consultar detalhes aqui: https://biopython.org/docs/1.76/api/Bio.Phylo.TreeConstruction.html\n",
        "\n",
        "# O parâmetro do método especifica a matriz de substituição a adotar\n",
        "\n",
        "# Modelos DNA: 'identity', 'blastn', ...\n",
        "# Modelos Aminoácidos: 'blosum62', 'pam250', ...\n",
        "\n",
        "calculator = DistanceCalculator('identity')\n",
        "dm = calculator.get_distance(aln)\n",
        "\n",
        "print(dm)\n"
      ],
      "metadata": {
        "id": "gvfcWUb6YCv3"
      },
      "execution_count": null,
      "outputs": []
    },
    {
      "cell_type": "code",
      "source": [
        "# Criar as árvores filogenéticas com os métodos UPGMA e NJ\n",
        "\n",
        "C1 = DistanceTreeConstructor()\n",
        "T1 = C1.upgma(dm)\n",
        "\n",
        "\n",
        "C2 = DistanceTreeConstructor()\n",
        "T2 = C2.nj(dm)\n",
        "\n",
        "\n",
        "\n",
        "\n"
      ],
      "metadata": {
        "id": "AS2RFu21YCyL"
      },
      "execution_count": null,
      "outputs": []
    },
    {
      "cell_type": "code",
      "source": [
        "# Visualizar as árvores e analisar eventuais diferenças\n",
        "\n",
        "\n",
        "Phylo.draw(T1, branch_labels=lambda c: f'{c.branch_length:.2f}' if c.branch_length else '')\n",
        "\n",
        "Phylo.draw(T2, branch_labels=lambda c: f'{c.branch_length:.2f}' if c.branch_length else '')\n",
        "\n"
      ],
      "metadata": {
        "id": "YAAiobo3hhFQ"
      },
      "execution_count": null,
      "outputs": []
    }
  ]
}