{
  "nbformat": 4,
  "nbformat_minor": 0,
  "metadata": {
    "colab": {
      "provenance": []
    },
    "kernelspec": {
      "name": "python3",
      "display_name": "Python 3"
    },
    "language_info": {
      "name": "python"
    }
  },
  "cells": [
    {
      "cell_type": "markdown",
      "source": [
        "**1. Instalar Biopython**\n",
        "https://biopython.org/\n"
      ],
      "metadata": {
        "id": "AXhQgvwtxQXU"
      }
    },
    {
      "cell_type": "code",
      "execution_count": null,
      "metadata": {
        "id": "8Xxsyf0uwqLZ"
      },
      "outputs": [],
      "source": [
        "!pip install BioPython"
      ]
    },
    {
      "cell_type": "markdown",
      "source": [
        "\n",
        "\n",
        "**2.   Processamento básico de sequências de DNA**\n",
        "\n",
        "\n",
        "*   Complemento\n",
        "*   Complemento reverso\n",
        "\n",
        "\n",
        "\n",
        "\n",
        "\n"
      ],
      "metadata": {
        "id": "WSwVpzzDxcRC"
      }
    },
    {
      "cell_type": "code",
      "source": [
        "from Bio.Seq import Seq\n",
        "\n",
        "S1 = Seq('AGTACACTGGT')\n",
        "print(S1)\n"
      ],
      "metadata": {
        "id": "1il6rKGExn3R"
      },
      "execution_count": null,
      "outputs": []
    },
    {
      "cell_type": "code",
      "source": [
        "S1_C = S1.complement()\n",
        "print(S1_C)"
      ],
      "metadata": {
        "id": "EH55R-QZx5SD"
      },
      "execution_count": null,
      "outputs": []
    },
    {
      "cell_type": "code",
      "source": [
        "S1_RC = S1.reverse_complement()\n",
        "print(S1_RC)"
      ],
      "metadata": {
        "id": "Tsivt40yyZEu"
      },
      "execution_count": null,
      "outputs": []
    },
    {
      "cell_type": "markdown",
      "source": [
        "**Questões:**\n",
        "1. Explique o que signifca complemento e complemento reverso de uma sequência de DNA\n",
        "\n",
        "2. Qual é a relevância destas operações no processo biológico?"
      ],
      "metadata": {
        "id": "abKbpebMGetr"
      }
    },
    {
      "cell_type": "markdown",
      "source": [
        "**3. Slicing de uma sequência**\n",
        "\n",
        "Notação: [Início : Final : Passo ]"
      ],
      "metadata": {
        "id": "43bOuGa4HK6D"
      }
    },
    {
      "cell_type": "code",
      "source": [
        "S2 = S1[2 : 5]\n",
        "\n",
        "S3 = S1[ : 5]\n",
        "\n",
        "S4 = S1[ 2: ]\n",
        "\n",
        "S5 = S1[ 2: -1]\n",
        "\n",
        "S6 = S1[1 : 5: 2]\n"
      ],
      "metadata": {
        "id": "g3mOijx0HPDK"
      },
      "execution_count": null,
      "outputs": []
    },
    {
      "cell_type": "markdown",
      "source": [
        "**Questão:**\n",
        "\n",
        "Antes de executar a célula seguinte, antecipe qual o resultado esperado"
      ],
      "metadata": {
        "id": "f4-cvntpJdu4"
      }
    },
    {
      "cell_type": "code",
      "source": [
        "print('Original: ', S1)\n",
        "\n",
        "print('S2: ', S2)\n",
        "\n",
        "print('S3: ',S3)\n",
        "\n",
        "print('S4: ',S4)\n",
        "\n",
        "print('S5: ',S5)\n",
        "\n",
        "print('S6: ',S6)\n"
      ],
      "metadata": {
        "id": "CnGs9oLBHbbE"
      },
      "execution_count": null,
      "outputs": []
    },
    {
      "cell_type": "markdown",
      "source": [
        "**4. Processamento de sequências**\n",
        "\n",
        "\n",
        "*   Transcrição\n",
        "*   Tradução\n",
        "\n"
      ],
      "metadata": {
        "id": "2lzB5fCRKRe1"
      }
    },
    {
      "cell_type": "code",
      "source": [
        "DNA = Seq('ATGGCCATTGTAATGGGCCGCTGAAAGGGTGCCCGATAG')\n",
        "\n",
        "RNA = DNA.transcribe()\n",
        "\n",
        "AA = RNA.translate()\n",
        "\n"
      ],
      "metadata": {
        "id": "MohbUTvIKajx"
      },
      "execution_count": null,
      "outputs": []
    },
    {
      "cell_type": "code",
      "source": [
        "print('DNA: ', DNA)\n",
        "\n",
        "print('RNA: ', RNA)\n",
        "\n",
        "print('AA: ', AA)"
      ],
      "metadata": {
        "id": "dQvX76CtLGfR"
      },
      "execution_count": null,
      "outputs": []
    },
    {
      "cell_type": "markdown",
      "source": [
        "**Questões:**\n",
        "\n",
        "1. O que acontece nas operações de transcrição e tradução?\n",
        "2. O que significam os * na sequência que resulta da tradução?"
      ],
      "metadata": {
        "id": "ZV9ZlL6efxAk"
      }
    },
    {
      "cell_type": "markdown",
      "source": [
        "**5. Ler uma sequência de um ficheiro**"
      ],
      "metadata": {
        "id": "bejN1UviToFS"
      }
    },
    {
      "cell_type": "code",
      "source": [
        "# Adicionar o ficheiro exemplo.fasta à diretoria de trabalho\n",
        "\n",
        "from Bio import SeqIO\n",
        "\n",
        "R = SeqIO.read('exemplo.fasta', 'fasta')"
      ],
      "metadata": {
        "id": "wDoZsUuoQ1US"
      },
      "execution_count": null,
      "outputs": []
    },
    {
      "cell_type": "code",
      "source": [
        "Id = R.id\n",
        "\n",
        "S = R.seq\n",
        "\n",
        "print(Id)\n",
        "\n",
        "print(S)"
      ],
      "metadata": {
        "id": "W9FiijOPTt_T"
      },
      "execution_count": null,
      "outputs": []
    },
    {
      "cell_type": "markdown",
      "source": [
        "**Questões:**\n",
        "\n",
        "1. O que é o formato FASTA?\n",
        "2. Quais os campos existentes neste formato?\n"
      ],
      "metadata": {
        "id": "W-c5DWyMgUIQ"
      }
    },
    {
      "cell_type": "code",
      "source": [
        "A = S.transcribe().translate()\n",
        "\n",
        "B = S.translate()"
      ],
      "metadata": {
        "id": "4Z7Csh8JWI_k"
      },
      "execution_count": null,
      "outputs": []
    },
    {
      "cell_type": "markdown",
      "source": [
        "**Questões:**\n",
        "1. As sequências A e B são iguais? Porquê?\n",
        "\n",
        "2. Qual é o tamanho da sequência de nucleótidos que foi lida do ficheiro?\n",
        "\n",
        "2. Qual é o nucleótido que ocorre mais vezes?\n"
      ],
      "metadata": {
        "id": "A5vrD4UbGF43"
      }
    }
  ]
}