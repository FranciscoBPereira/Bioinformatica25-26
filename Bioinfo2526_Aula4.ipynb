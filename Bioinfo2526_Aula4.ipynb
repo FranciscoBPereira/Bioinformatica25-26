{
  "nbformat": 4,
  "nbformat_minor": 0,
  "metadata": {
    "colab": {
      "provenance": []
    },
    "kernelspec": {
      "name": "python3",
      "display_name": "Python 3"
    },
    "language_info": {
      "name": "python"
    }
  },
  "cells": [
    {
      "cell_type": "markdown",
      "source": [
        "**0. Instalar Biopython**\n",
        "https://biopython.org/\n"
      ],
      "metadata": {
        "id": "AXhQgvwtxQXU"
      }
    },
    {
      "cell_type": "code",
      "execution_count": null,
      "metadata": {
        "id": "8Xxsyf0uwqLZ"
      },
      "outputs": [],
      "source": [
        "!pip install BioPython\n",
        "\n",
        "import Bio"
      ]
    },
    {
      "cell_type": "code",
      "source": [
        "# Importar o módulo Bio.Align\n",
        "\n",
        "# Tem classes para efetuar alinhamentos de par e alinhamentos múltiplos\n",
        "\n",
        "\n",
        "from Bio import Align\n",
        "from Bio import Seq\n"
      ],
      "metadata": {
        "id": "pm5cQ86-AiT0"
      },
      "execution_count": null,
      "outputs": []
    },
    {
      "cell_type": "markdown",
      "source": [
        "\n",
        "\n",
        "**1.   Alinhamento de Par Simples entre sequências de DNA**\n",
        "\n",
        "\n",
        "\n",
        "\n",
        "\n",
        "\n"
      ],
      "metadata": {
        "id": "WSwVpzzDxcRC"
      }
    },
    {
      "cell_type": "code",
      "source": [
        "# Criar um objeto para alinhamento e visualizar as suas propriedades\n",
        "\n",
        "aligner = Align.PairwiseAligner()\n",
        "\n",
        "print(aligner)"
      ],
      "metadata": {
        "id": "zoJm1_eFArWN"
      },
      "execution_count": null,
      "outputs": []
    },
    {
      "cell_type": "code",
      "source": [
        "# Realizar um alinhamento simples entre as sequências GTATTA e TACTA\n",
        "\n",
        "alignments = aligner.align('GTATTA', 'TACTA')\n",
        "\n",
        "print('nr. de alinhamentos otimos: ', len(alignments))\n"
      ],
      "metadata": {
        "id": "EN3276I8BuW-"
      },
      "execution_count": null,
      "outputs": []
    },
    {
      "cell_type": "code",
      "source": [
        "# Primeiro alinhamento\n",
        "\n",
        "print('Score: ', alignments[0].score)\n",
        "print(alignments[0])"
      ],
      "metadata": {
        "id": "PyeYuP1bDQVN"
      },
      "execution_count": null,
      "outputs": []
    },
    {
      "cell_type": "code",
      "source": [
        "# Utilizar um iterador para visualizar todos os alinhamentos\n",
        "\n",
        "for aln in alignments:\n",
        "  print(\"Score:\", aln.score)\n",
        "  print(aln)"
      ],
      "metadata": {
        "id": "2VZWXXgjDXzL"
      },
      "execution_count": null,
      "outputs": []
    },
    {
      "cell_type": "markdown",
      "source": [
        "**Questões:**\n",
        "\n",
        "1. Analise o resultado obtido\n",
        "\n",
        "2. Qual a parametrização utilizada?"
      ],
      "metadata": {
        "id": "ZYHVHNuEMIFm"
      }
    },
    {
      "cell_type": "code",
      "source": [
        "#Alteração: Trocar a matriz de substituição (matches / mismatches)\n",
        "\n",
        "# O módulo Bio.Align.substitution_matrices tem várias matrizes para DNA e aminoácidos\n",
        "\n",
        "from Bio.Align import substitution_matrices\n",
        "\n",
        "aligner.substitution_matrix = substitution_matrices.load('NUC.4.4')\n",
        "\n",
        "print(aligner.substitution_matrix)"
      ],
      "metadata": {
        "id": "O6fuHTZ8EotM"
      },
      "execution_count": null,
      "outputs": []
    },
    {
      "cell_type": "markdown",
      "source": [
        "**Questão:**\n",
        "\n",
        "1. Que valores são usados para matches e mutações?\n"
      ],
      "metadata": {
        "id": "9JPgrdwwMlNh"
      }
    },
    {
      "cell_type": "code",
      "source": [
        "#Repetir o alinhamento\n",
        "\n",
        "alignments = aligner.align('GTATTA', 'TACTA')\n",
        "\n",
        "print('nr. de alinhamentos otimos: ', len(alignments))\n",
        "\n",
        "for aln in alignments:\n",
        "  print(\"Score:\", aln.score)\n",
        "  print(aln)"
      ],
      "metadata": {
        "id": "DMa6zj1oHMWZ"
      },
      "execution_count": null,
      "outputs": []
    },
    {
      "cell_type": "code",
      "source": [
        "#Alteração: Mudar as penalizações para os gaps\n",
        "\n",
        "aligner.open_gap_score = -10\n",
        "aligner.extend_gap_score = -1\n",
        "aligner.target_end_gap_score = 0.0\n",
        "aligner.query_end_gap_score = 0.0\n",
        "\n",
        "print(aligner)"
      ],
      "metadata": {
        "id": "Ydeyk82_B_6-"
      },
      "execution_count": null,
      "outputs": []
    },
    {
      "cell_type": "code",
      "source": [
        "# Repetir o alinhamento\n",
        "\n",
        "alignments = aligner.align('GTATTA', 'TACTA')\n",
        "\n",
        "print('nr. de alinhamentos otimos: ', len(alignments))\n",
        "\n",
        "for aln in alignments:\n",
        "  print(\"Score:\", aln.score)\n",
        "  print(aln)"
      ],
      "metadata": {
        "id": "wvMq2SykM56N"
      },
      "execution_count": null,
      "outputs": []
    },
    {
      "cell_type": "markdown",
      "source": [
        "**2. Alinhamento de Par Simples entre Sequências de Aminoácidos**"
      ],
      "metadata": {
        "id": "w8aD1M8UNwyz"
      }
    },
    {
      "cell_type": "code",
      "source": [
        "# Alinhamento de Par de aminoácidos\n",
        "# Criar o objeto para alinhamento\n",
        "alignerAA = Align.PairwiseAligner()\n",
        "\n",
        "print(alignerAA)\n",
        "\n",
        "print('Matriz de substituição: ', alignerAA.substitution_matrix)"
      ],
      "metadata": {
        "id": "xCqwAiiSNQB7"
      },
      "execution_count": null,
      "outputs": []
    },
    {
      "cell_type": "code",
      "source": [
        "# Configurar o objeto de alinhamento com a seguinte parametrização:\n",
        "\n",
        "# 1. Matriz de substituição: BLOSUM62\n",
        "\n",
        "# 2. Sem penalizar gaps no início ou final\n",
        "\n",
        "# 3. Abertura de gap: -10\n",
        "\n",
        "# 4. Extensão de gap: -0.5\n",
        "\n",
        "\n",
        "\n",
        "### COMPLETAR CÓDIGO\n",
        "\n",
        "\n"
      ],
      "metadata": {
        "id": "EcI52vKWN6Ja"
      },
      "execution_count": null,
      "outputs": []
    },
    {
      "cell_type": "code",
      "source": [
        "print(alignerAA)\n",
        "\n",
        "print('Matriz de substituição: ', alignerAA.substitution_matrix)"
      ],
      "metadata": {
        "id": "yH7P1OL3OxjQ"
      },
      "execution_count": null,
      "outputs": []
    },
    {
      "cell_type": "code",
      "source": [
        "# Efetuar o alinhamento entre estas 2 sequências e visualizar os resultados (todos os alinhamentos ótimos)\n",
        "\n",
        "from Bio.Seq import Seq # Import the Seq class\n",
        "\n",
        "S1 = Seq('NGPSTKDFGKISESREFDNQNGPSTKDFGKISESREFDNQ')\n",
        "S2 = Seq('QNQLERSFGKINMRLEDALVQNQLERSFGKINMRLEDALV')\n",
        "\n",
        "\n",
        "### COMPLETAR CÓDIGO\n"
      ],
      "metadata": {
        "id": "NoFL_OoSONCb"
      },
      "execution_count": null,
      "outputs": []
    },
    {
      "cell_type": "markdown",
      "source": [
        "Analisar os resultados"
      ],
      "metadata": {
        "id": "bD2FwcW_OeQY"
      }
    }
  ]
}