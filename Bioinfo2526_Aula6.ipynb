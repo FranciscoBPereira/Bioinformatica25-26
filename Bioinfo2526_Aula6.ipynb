{
  "nbformat": 4,
  "nbformat_minor": 0,
  "metadata": {
    "colab": {
      "provenance": []
    },
    "kernelspec": {
      "name": "python3",
      "display_name": "Python 3"
    },
    "language_info": {
      "name": "python"
    }
  },
  "cells": [
    {
      "cell_type": "markdown",
      "source": [
        "**0. Instalar Biopython**\n",
        "https://biopython.org/\n"
      ],
      "metadata": {
        "id": "AXhQgvwtxQXU"
      }
    },
    {
      "cell_type": "code",
      "execution_count": null,
      "metadata": {
        "id": "8Xxsyf0uwqLZ"
      },
      "outputs": [],
      "source": [
        "!pip install BioPython\n",
        "\n",
        "import Bio\n",
        "\n",
        "import matplotlib\n",
        "import matplotlib.pyplot as plt\n",
        "import copy\n",
        "\n",
        "from Bio import Phylo\n"
      ]
    },
    {
      "cell_type": "markdown",
      "source": [
        "**1. Visualização básica de árvores filogenéticas**"
      ],
      "metadata": {
        "id": "UzRzhKEFL0cu"
      }
    },
    {
      "cell_type": "code",
      "source": [
        "# Adicionar os 2 ficheiros obtidos no Clustal Omega à diretoria de trabalho\n",
        "# Os nomes devem ser Tree1.dnd e Tree2.dnd. Se não forem, ajustem o código nas linhas seguintes\n",
        "\n",
        "# Leitura do ficheiro para um objeto do tipo tree\n",
        "\n",
        "tree1 = Phylo.read('Tree1.dnd', 'newick')\n",
        "\n",
        "print(tree1)"
      ],
      "metadata": {
        "id": "ye3_VXLLLv3w"
      },
      "execution_count": null,
      "outputs": []
    },
    {
      "cell_type": "code",
      "source": [
        "# Visualização básica\n",
        "\n",
        "Phylo.draw_ascii(tree1)"
      ],
      "metadata": {
        "id": "SURsmGSpM_Gm"
      },
      "execution_count": null,
      "outputs": []
    },
    {
      "cell_type": "code",
      "source": [
        "# Visualização utilizando Matplotlib\n",
        "\n",
        "Phylo.draw(tree1)"
      ],
      "metadata": {
        "id": "7DbFZW7GNNlW"
      },
      "execution_count": null,
      "outputs": []
    },
    {
      "cell_type": "code",
      "source": [
        "# Repita o processo para a segunda árvore\n",
        "\n",
        "# Inserir código aqui #\n",
        "\n",
        "\n"
      ],
      "metadata": {
        "id": "UcuOyAP5NabX"
      },
      "execution_count": null,
      "outputs": []
    },
    {
      "cell_type": "markdown",
      "source": [
        "**2. Outras opções de visualização**"
      ],
      "metadata": {
        "id": "eTMjkeoiZLCR"
      }
    },
    {
      "cell_type": "code",
      "source": [
        "# Colorir secções da árvore\n",
        "\n",
        "mrca = tree1.common_ancestor({\"name\": \"Rattus\"}, {\"name\": \"Pan\"})\n",
        "mrca.color = 'green'\n",
        "\n",
        "tree1.clade[1].color = 'red'\n",
        "\n",
        "tree1.clade[2].color = 'blue'\n",
        "\n",
        "\n",
        "Phylo.draw(tree1)"
      ],
      "metadata": {
        "id": "GUA2oM8-N0R6"
      },
      "execution_count": null,
      "outputs": []
    },
    {
      "cell_type": "markdown",
      "source": [
        "**3. Obter informação de árvores filogenéticas**"
      ],
      "metadata": {
        "id": "8ro4yWl7a9q1"
      }
    },
    {
      "cell_type": "code",
      "source": [
        "# Obter terminais\n",
        "print('Terminais: ', tree1.get_terminals())\n",
        "\n",
        "# Obter não terminais (Não têm nome)\n",
        "print('Não terminais: ', tree1.get_nonterminals())\n",
        "\n",
        "# Obter o nó raiz (Não tem nome)\n",
        "print('Raiz: ', tree1.root)\n",
        "\n"
      ],
      "metadata": {
        "id": "BrLABLuhPCML"
      },
      "execution_count": null,
      "outputs": []
    },
    {
      "cell_type": "code",
      "source": [
        "# Obter distância entre 2 nós\n",
        "\n",
        "print(tree1.distance({\"name\": \"Rattus\"}, {\"name\": \"Pan\"}))\n",
        "\n",
        "print(tree1.distance({\"name\": \"Rattus\"}))\n"
      ],
      "metadata": {
        "id": "mvqoB0f4b-Xy"
      },
      "execution_count": null,
      "outputs": []
    },
    {
      "cell_type": "markdown",
      "source": [
        "Questão:\n",
        "\n",
        "1. Como foram calculadas estas distâncias?"
      ],
      "metadata": {
        "id": "Q4aDOIN-cHay"
      }
    },
    {
      "cell_type": "code",
      "source": [
        "# Calcule a distância entre o Rattus e o Hippopotamus\n",
        "\n",
        "\n",
        "# Inserir código aqui #"
      ],
      "metadata": {
        "id": "pa2XAZWJHZ1X"
      },
      "execution_count": null,
      "outputs": []
    },
    {
      "cell_type": "markdown",
      "source": [
        "**4. Alterar árvores filogenéticas**"
      ],
      "metadata": {
        "id": "cjbsd_kCcqKk"
      }
    },
    {
      "cell_type": "code",
      "source": [
        "# Criar cópias da árvore para não se alterar a original\n",
        "\n",
        "ntA = copy.deepcopy(tree1)\n",
        "\n",
        "ntB = copy.deepcopy(tree1)\n"
      ],
      "metadata": {
        "id": "ChRgN1JDdXFR"
      },
      "execution_count": null,
      "outputs": []
    },
    {
      "cell_type": "code",
      "source": [
        "# Apagar um nó da árvore\n",
        "\n",
        "ntA.collapse({'name': 'Pan'})\n",
        "\n",
        "Phylo.draw(ntA)\n",
        "\n"
      ],
      "metadata": {
        "id": "QKRN65ETPEvg"
      },
      "execution_count": null,
      "outputs": []
    },
    {
      "cell_type": "code",
      "source": [
        "# Dividir o nó Rattus em 2 (especiação)\n",
        "\n",
        "ntB.clade[0, 0].split(2, 0.25)\n",
        "\n",
        "\n",
        "Phylo.draw(ntB)\n",
        "\n"
      ],
      "metadata": {
        "id": "nD6trpHFgIB9"
      },
      "execution_count": null,
      "outputs": []
    },
    {
      "cell_type": "code",
      "source": [
        "\n",
        "# Efetuar a especiação do nó Pan (dividir em 2 descendentes)\n",
        "\n",
        "# Completar código\n",
        "\n",
        "\n",
        "ntC = copy.deepcopy(tree1)\n",
        "\n",
        "\n",
        "# Inserir código aqui #\n",
        "\n",
        "Phylo.draw(ntC)\n",
        "\n"
      ],
      "metadata": {
        "id": "J4tWd03i6EHt"
      },
      "execution_count": null,
      "outputs": []
    },
    {
      "cell_type": "markdown",
      "source": [
        "**5. Atribuir nomes às espécies internas**"
      ],
      "metadata": {
        "id": "F1SOv_O-60LA"
      }
    },
    {
      "cell_type": "code",
      "source": [
        "# Pode ser realizado de 2 formas\n",
        "\n",
        "# 1. Alterando o ficheiro newick com os dados da árvore\n",
        "# 2. Completando o objeto Tree depois da leitura\n",
        "\n",
        "\n",
        "# Escolha uma destas opções e complete o código #\n",
        "\n",
        "# Completar o objeto tFull da forma pretendida #\n",
        "\n",
        "\n",
        "\n"
      ],
      "metadata": {
        "id": "UswQdemBRLHU"
      },
      "execution_count": null,
      "outputs": []
    },
    {
      "cell_type": "code",
      "source": [
        "# Esta instrução deve mostrar a árvore com todos os nós internos com nome\n",
        "\n",
        "Phylo.draw(tFull)"
      ],
      "metadata": {
        "id": "jXkwq2oZRQuY"
      },
      "execution_count": null,
      "outputs": []
    }
  ]
}