{
  "nbformat": 4,
  "nbformat_minor": 0,
  "metadata": {
    "colab": {
      "provenance": []
    },
    "kernelspec": {
      "name": "python3",
      "display_name": "Python 3"
    },
    "language_info": {
      "name": "python"
    }
  },
  "cells": [
    {
      "cell_type": "markdown",
      "source": [
        "**0. Instalar Biopython**\n",
        "https://biopython.org/\n"
      ],
      "metadata": {
        "id": "AXhQgvwtxQXU"
      }
    },
    {
      "cell_type": "code",
      "execution_count": null,
      "metadata": {
        "id": "8Xxsyf0uwqLZ"
      },
      "outputs": [],
      "source": [
        "!pip install BioPython\n",
        "\n",
        "import Bio"
      ]
    },
    {
      "cell_type": "code",
      "source": [
        "# Instalar Clustal\n",
        "\n",
        "!sudo apt-get install clustalw\n",
        "\n",
        "! clustalw -help"
      ],
      "metadata": {
        "id": "L8bTTZq9j8up"
      },
      "execution_count": null,
      "outputs": []
    },
    {
      "cell_type": "code",
      "source": [
        "# Colocar o ficheiro \"Exemplo.txt\" na diretoria de trabalho\n",
        "# Executar o alinhamento\n",
        "\n",
        "! clustalw -INFILE=Exemplo.txt"
      ],
      "metadata": {
        "id": "XOKMfnH6kZiT"
      },
      "execution_count": null,
      "outputs": []
    },
    {
      "cell_type": "code",
      "source": [
        "# O alinhamento produz 2 ficheiros\n",
        "\n",
        "# Ficheiro 1 - \"Exemplo.aln\" contém o alinhamento\n",
        "\n",
        "!cat Exemplo.aln"
      ],
      "metadata": {
        "id": "_Yy2Eqqbkvn0"
      },
      "execution_count": null,
      "outputs": []
    },
    {
      "cell_type": "code",
      "source": [
        "# Ficheiro 2 - \"Exemplo.dnd\" contém a árvore filogenética\n",
        "\n",
        "from Bio import Phylo\n",
        "\n",
        "tree = Phylo.read('Exemplo.dnd', 'newick')\n",
        "Phylo.draw_ascii(tree)"
      ],
      "metadata": {
        "id": "orVPIQmmk7t2"
      },
      "execution_count": null,
      "outputs": []
    },
    {
      "cell_type": "code",
      "source": [
        "# Guardar o alinhamento num objeto BioPythyon do tipo multiple sequence alignment\n",
        "\n",
        "from Bio import AlignIO\n",
        "\n",
        "msa = AlignIO.read('Exemplo.aln', 'clustal')"
      ],
      "metadata": {
        "id": "pm5cQ86-AiT0"
      },
      "execution_count": null,
      "outputs": []
    },
    {
      "cell_type": "code",
      "source": [
        "# Mostrar informação completa\n",
        "\n",
        "print(msa)\n",
        "print(\"Número de sequências:\", len(msa))\n",
        "print(\"Comprimento do alinhamento:\", msa.get_alignment_length())"
      ],
      "metadata": {
        "id": "uBGzyBBtlotF"
      },
      "execution_count": null,
      "outputs": []
    },
    {
      "cell_type": "code",
      "source": [
        "# Mostrar colunas completamente conservadas\n",
        "\n",
        "cons_colunas = []\n",
        "for i in range(msa.get_alignment_length()):\n",
        "    coluna = msa[:, i]\n",
        "    if coluna.count(coluna[0]) == len(coluna):  # todas iguais\n",
        "        cons_colunas.append(i)\n",
        "\n",
        "print(\"Colunas totalmente conservadas:\", cons_colunas)"
      ],
      "metadata": {
        "id": "EflsLMLIl11r"
      },
      "execution_count": null,
      "outputs": []
    }
  ]
}