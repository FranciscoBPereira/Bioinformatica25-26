{
  "nbformat": 4,
  "nbformat_minor": 0,
  "metadata": {
    "colab": {
      "provenance": []
    },
    "kernelspec": {
      "name": "python3",
      "display_name": "Python 3"
    },
    "language_info": {
      "name": "python"
    }
  },
  "cells": [
{
      "cell_type": "markdown",
      "metadata": {
        "id": "view-in-github",
        "colab_type": "text"
      },
      "source": [
        "<a href=\"https://colab.research.google.com/github/FranciscoBPereira/Bioinformatica25-26/blob/main/Bioinfo2526_Aula9.ipynb\" target=\"_parent\"><img src=\"https://colab.research.google.com/assets/colab-badge.svg\" alt=\"Open In Colab\"/></a>"
      ]
    },
    {
      "cell_type": "markdown",
      "source": [
        "**0. Instalar Biopython**\n",
        "https://biopython.org/\n"
      ],
      "metadata": {
        "id": "AXhQgvwtxQXU"
      }
    },
    {
      "cell_type": "code",
      "execution_count": null,
      "metadata": {
        "id": "8Xxsyf0uwqLZ"
      },
      "outputs": [],
      "source": [
        "!pip install BioPython\n",
        "\n",
        "from Bio.PDB import *\n"
      ]
    },
    {
      "cell_type": "markdown",
      "source": [
        "**Tarefa 1: Acesso à PDB para obtenção de um ficheiro cif**"
      ],
      "metadata": {
        "id": "nYKy3GwV7E6m"
      }
    },
    {
      "cell_type": "markdown",
      "source": [
        "**1.1 Obter informação sobre a estrutura 3D da proteína com id 1JM7**"
      ],
      "metadata": {
        "id": "7faFYsj4sUMX"
      }
    },
    {
      "cell_type": "code",
      "source": [
        "# Obter o ficheiro cif a partir da base de dados PDB\n",
        "\n",
        "pdb = PDBList()\n",
        "pdb.retrieve_pdb_file('1JM7', file_format='mmCif')"
      ],
      "metadata": {
        "id": "jih2QT2OrVTW"
      },
      "execution_count": null,
      "outputs": []
    },
    {
      "cell_type": "markdown",
      "source": [
        "**1.2 Criar e trabalhar com um objeto Structure**"
      ],
      "metadata": {
        "id": "9evKUHVw7YFV"
      }
    },
    {
      "cell_type": "code",
      "source": [
        "# Criar um objeto Structure a partir da informação do ficheiro cif (ignorar os warnings)\n",
        "\n",
        "parser = MMCIFParser()\n",
        "estrutura = parser.get_structure('1JM7','jm/1jm7.cif')"
      ],
      "metadata": {
        "id": "DBhvQjrVrVV8"
      },
      "execution_count": null,
      "outputs": []
    },
    {
      "cell_type": "code",
      "source": [
        "# Verifica o modo experimental usado para calcular a estrutura tridimensional\n",
        "\n",
        "print('Metodo: ', estrutura.header['structure_method'])"
      ],
      "metadata": {
        "id": "VaJEYnUGrVYY"
      },
      "execution_count": null,
      "outputs": []
    },
    {
      "cell_type": "code",
      "source": [
        "# Verificar quantos modelos existem no ficheiro\n",
        "\n",
        "for modelo in estrutura:\n",
        "  print('Modelo:',modelo.id)"
      ],
      "metadata": {
        "id": "TGu78eomwYMT"
      },
      "execution_count": null,
      "outputs": []
    },
    {
      "cell_type": "markdown",
      "source": [
        "**Questão:**\n",
        "\n",
        "Explique o motivo pelo qual existem vários modelos?"
      ],
      "metadata": {
        "id": "b_tSpTm4whPR"
      }
    },
    {
      "cell_type": "code",
      "source": [
        "# Selecionar apenas o primeiro modelo\n",
        "# Verificar quantas cadeias tem este modelo\n",
        "\n",
        "model1 = estrutura[0]\n",
        "for cadeia in model1:\n",
        "  print('L Cadeia:',cadeia.id)"
      ],
      "metadata": {
        "id": "aEIXI4Nev7HG"
      },
      "execution_count": null,
      "outputs": []
    },
    {
      "cell_type": "code",
      "source": [
        "# Apresentar informação mais detalhada do modelo\n",
        "# Cadeias\n",
        "# Resíduos por cadeia\n",
        "\n",
        "for cadeia in model1:\n",
        "  print('Cadeia:',cadeia.id)\n",
        "  for residuo in cadeia:\n",
        "      print('\\t\\tResiduo:',residuo.resname,\"(\",residuo.id[1],\")\")\n"
      ],
      "metadata": {
        "id": "3JlNKMO-wHeQ"
      },
      "execution_count": null,
      "outputs": []
    },
    {
      "cell_type": "code",
      "source": [
        "# Apresentar informação completa do modelo:\n",
        "# Cadeias\n",
        "# Resíduos por cadeia\n",
        "# Átomos por resíduo, com localização\n",
        "\n",
        "for cadeia in model1:\n",
        "  print('Cadeia:',cadeia.id)\n",
        "  for residuo in cadeia:\n",
        "      print('\\t\\tResiduo:',residuo.resname,\"(\",residuo.id[1],\")\")\n",
        "      for atomo in residuo:\n",
        "        print(\"\\t\\t\\tAtomo:\",atomo.name,\"\\\n",
        "        \\tCoordenadas: (X:\",atomo.coord[0],\\\n",
        "        \"L Y:\",atomo.coord[1],\\\n",
        "        \"L Z:\",atomo.coord[2],\")\")"
      ],
      "metadata": {
        "id": "JNdi_t8myojJ"
      },
      "execution_count": null,
      "outputs": []
    },
    {
      "cell_type": "code",
      "source": [
        "# Contar o número de átomos por cadeia\n",
        "\n",
        "for cadeia in model1:\n",
        "  print('Cadeia:',cadeia.id)\n",
        "  num_atomos = 0\n",
        "  for residuo in cadeia:\n",
        "      for atomo in residuo:\n",
        "        num_atomos += 1\n",
        "  print('\\t\\tNúmero de átomos:',num_atomos)\n",
        "\n"
      ],
      "metadata": {
        "id": "E_VpUcgByzqY"
      },
      "execution_count": null,
      "outputs": []
    },
    {
      "cell_type": "code",
      "source": [
        "# Contar o número de átomos por resíduo\n",
        "\n",
        "# Completar #\n"
      ],
      "metadata": {
        "id": "53fgYdJCzQWb"
      },
      "execution_count": null,
      "outputs": []
    },
    {
      "cell_type": "code",
      "source": [
        "# Apresentar uma figura 3D com a localização de todos os átomos deste modelo\n",
        "\n",
        "from mpl_toolkits.mplot3d import Axes3D\n",
        "import matplotlib.pyplot as plt\n",
        "\n",
        "fig = plt.figure(figsize=(16,9))\n",
        "ax3d=fig.add_subplot(111,projection='3d')\n",
        "\n",
        "for atomo in model1.get_atoms():\n",
        "  ax3d.scatter(atomo.coord[0],atomo.coord[1],atomo.coord[2])\n",
        "\n",
        "ax3d.set_xlabel('X')\n",
        "ax3d.set_ylabel('Y')\n",
        "ax3d.set_zlabel('Z')\n",
        "plt.show()"
      ],
      "metadata": {
        "id": "q09urvRYzlLb"
      },
      "execution_count": null,
      "outputs": []
    },
    {
      "cell_type": "markdown",
      "source": [
        "**Tarefa 2 - Ligação POST com API da PDB para obtenção de informação**"
      ],
      "metadata": {
        "id": "ZhXx2jGkz4Lq"
      }
    },
    {
      "cell_type": "code",
      "source": [
        "import requests\n",
        "import pandas as pd"
      ],
      "metadata": {
        "id": "dcs3YZwtz5-1"
      },
      "execution_count": null,
      "outputs": []
    },
    {
      "cell_type": "code",
      "source": [
        "# Efetuar um POST request à API da PDB\n",
        "# https://data.rcsb.org/#data-api\n",
        "\n",
        "# Un ficheiro json especifica os detalhes do pedido\n",
        "# Neste caso pretende-se identificar entradas que satisfaçam o seguinte critério: 'Severe acute respiratory syndrome coronavirus 2'\n",
        "\n",
        "query_url = 'https://search.rcsb.org/rcsbsearch/v2/query'\n",
        "\n",
        "query = {\n",
        "    'query': {\n",
        "        \"type\": 'terminal',\n",
        "        'service': 'text',\n",
        "        'parameters': {\n",
        "            'attribute': 'rcsb_entity_source_organism.taxonomy_lineage.name',\n",
        "            'operator': 'exact_match',\n",
        "            'value': 'Severe acute respiratory syndrome coronavirus 2'\n",
        "        }\n",
        "    },\n",
        "    'return_type': 'entry'\n",
        "}\n",
        "\n",
        "response = requests.post(query_url, json=query)\n",
        "response.raise_for_status()\n",
        "results = response.json()\n",
        "\n",
        "pdb_ids = [r['identifier'] for r in results.get('result_set', [])]\n",
        "print(f'Foram encontradas {len(pdb_ids)} estruturas SARS-CoV-2 na PDB.')\n",
        "print(pdb_ids)\n"
      ],
      "metadata": {
        "id": "UadlLtAR0Zmb"
      },
      "execution_count": null,
      "outputs": []
    },
    {
      "cell_type": "code",
      "source": [
        "\n",
        "# Obter alguma informação sobre as entradas identificadas\n",
        "\n",
        "structures = []\n",
        "\n",
        "for pdb_id in pdb_ids[:20]:  # limitar aos 20 primeiros para exemplo\n",
        "    url = f'https://data.rcsb.org/rest/v1/core/entry/{pdb_id}'\n",
        "    r = requests.get(url)\n",
        "    if r.status_code == 200:\n",
        "        data = r.json()\n",
        "        info = {\n",
        "            'PDB_ID': pdb_id,\n",
        "            'Título': data.get('struct', {}).get('title'),\n",
        "            'Método': data.get(\"exptl\", [{}])[0].get(\"method\", \"\"),\n",
        "            'Resolução (Å)': data.get('rcsb_entry_info', {}).get('resolution_combined', [None])[0],\n",
        "            'Data de revisao': data.get('rcsb_accession_info', {}).get('revision_date', ''),\n",
        "        }\n",
        "        structures.append(info)\n",
        "\n",
        "for structure in structures:\n",
        "    print(structure)"
      ],
      "metadata": {
        "id": "LwRUW-aA09OC"
      },
      "execution_count": null,
      "outputs": []
    },
    {
      "cell_type": "code",
      "source": [
        "# Criar um dataframe com a informação recolhida\n",
        "\n",
        "df = pd.DataFrame(structures)\n",
        "df['Ano'] = pd.to_datetime(df['Data de revisao']).dt.year\n",
        "print(df.head())"
      ],
      "metadata": {
        "id": "_wzKeegD3KrB"
      },
      "execution_count": null,
      "outputs": []
    },
    {
      "cell_type": "code",
      "source": [
        "# Guardar a informação do dataframe num ficheiro csv\n",
        "\n",
        "# Guardar como CSV\n",
        "df.to_csv('sarscov2_structures_summary.csv', index=False)\n",
        "print('\\n Ficheiro criado com sucesso!')"
      ],
      "metadata": {
        "id": "HOmPTSle5FJc"
      },
      "execution_count": null,
      "outputs": []
    },
    {
      "cell_type": "code",
      "source": [
        "# Caso seja relevante é possível obter o ficheiro detalhado de uma das entradas identificadas\n",
        "\n",
        "idP = pdb_ids[0]\n",
        "print(idP)\n",
        "\n",
        "\n",
        "pdbl = PDBList()\n",
        "file = pdbl.retrieve_pdb_file(idP, file_format='mmCif')\n",
        "\n",
        "print(f' Estrutura {pdb_ids[0]} descarregada em: {file}')\n",
        "\n"
      ],
      "metadata": {
        "id": "ygZmGHvh5Nzw"
      },
      "execution_count": null,
      "outputs": []
    },
    {
      "cell_type": "code",
      "source": [
        "# Quantos modelos tem o ficheiro desta proteína?\n",
        "# Quantas cadeias tem cada modelo?\n",
        "\n",
        "# Completar #\n"
      ],
      "metadata": {
        "id": "VI2Yb_Pv53e4"
      },
      "execution_count": null,
      "outputs": []
    },
    {
      "cell_type": "code",
      "source": [
        "# Visualização de gráficos sobre a informação armazenada\n",
        "\n",
        "import plotly.express as px\n",
        "\n",
        "# Distribuição por método experimental\n",
        "fig1 = px.histogram(\n",
        "    df, x='Método', color='Método',\n",
        "    title='Métodos experimentais usados nas estruturas SARS-CoV-2',\n",
        "    text_auto=True\n",
        ")\n",
        "fig1.update_layout(xaxis_title='Método', yaxis_title='Número de estruturas')\n",
        "fig1.show()"
      ],
      "metadata": {
        "id": "xEDZcZas3uVh"
      },
      "execution_count": null,
      "outputs": []
    }
  ]
}
